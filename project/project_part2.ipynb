{
 "cells": [
  {
   "cell_type": "code",
   "execution_count": 1,
   "id": "e1a132e7",
   "metadata": {},
   "outputs": [],
   "source": [
    "import pandas as pd\n",
    "import numpy as np\n",
    "import matplotlib.pyplot as plt\n",
    "import seaborn as sns\n",
    "from sklearn.model_selection import train_test_splitax.set_xlabel('Predicted labels')\n",
    "ax.set_ylabel('True labels')\n",
    "ax.set_title('Confusion Matrix')\n"
   ]
  },
  {
   "cell_type": "code",
   "execution_count": 2,
   "id": "9bd8fa3a",
   "metadata": {},
   "outputs": [],
   "source": [
    "from sklearn.linear_model import LogisticRegression\n",
    "from sklearn.preprocessing import MinMaxScaler\n",
    "from sklearn import metrics\n",
    "from sklearn.naive_bayes import MultinomialNB,GaussianNB,BernoulliNB\n",
    "from sklearn.neighbors import KNeighborsClassifier\n",
    "from sklearn.svm import SVC\n",
    "from sklearn.tree import DecisionTreeClassifier\n",
    "from sklearn.ensemble import GradientBoostingClassifier\n",
    "from sklearn.ensemble import AdaBoostClassifier\n",
    "from xgboost import XGBClassifier\n",
    "from sklearn.ensemble import RandomForestClassifier\n",
    "from sklearn.metrics import classification_report,accuracy_score,confusion_matrix,precision_score,recall_score,f1_score"
   ]
  },
  {
   "cell_type": "code",
   "execution_count": 3,
   "id": "4568b885",
   "metadata": {},
   "outputs": [],
   "source": [
    "from sklearn.ensemble import ExtraTreesClassifier\n",
    "from sklearn.feature_selection import SelectFromModel"
   ]
  },
  {
   "cell_type": "code",
   "execution_count": 4,
   "id": "c92d2466",
   "metadata": {},
   "outputs": [],
   "source": [
    "from sklearn.tree import DecisionTreeClassifier\n",
    "from sklearn.ensemble import RandomForestClassifier\n",
    "from sklearn.linear_model import LogisticRegression\n",
    "from sklearn.ensemble import BaggingClassifier\n",
    "from sklearn.tree import DecisionTreeClassifier\n",
    "from sklearn.ensemble import ExtraTreesClassifier"
   ]
  },
  {
   "cell_type": "code",
   "execution_count": 5,
   "id": "e0ff9af1",
   "metadata": {},
   "outputs": [],
   "source": [
    "from numpy import mean\n",
    "from sklearn.datasets import make_classification\n",
    "from sklearn.model_selection import cross_val_score\n",
    "from sklearn.model_selection import RepeatedStratifiedKFold\n",
    "from sklearn.tree import DecisionTreeClassifier\n",
    "from imblearn.pipeline import Pipeline\n",
    "from imblearn.over_sampling import SMOTE\n",
    "from imblearn.under_sampling import RandomUnderSampler"
   ]
  },
  {
   "cell_type": "code",
   "execution_count": 6,
   "id": "c80c11fa",
   "metadata": {},
   "outputs": [],
   "source": [
    "df = pd.read_csv(\"covtype.data\", header = None)"
   ]
  },
  {
   "cell_type": "code",
   "execution_count": 6,
   "id": "60c9b37a",
   "metadata": {},
   "outputs": [],
   "source": [
    "train,test = train_test_split(df,test_size=0.2,random_state=999)"
   ]
  },
  {
   "cell_type": "code",
   "execution_count": 9,
   "id": "d6c12dc3",
   "metadata": {},
   "outputs": [],
   "source": [
    "features = train.iloc[:,0:54]\n",
    "label = train.iloc[:,54]"
   ]
  },
  {
   "cell_type": "markdown",
   "id": "09f0c7be",
   "metadata": {},
   "source": [
    "Feature selection"
   ]
  },
  {
   "cell_type": "code",
   "execution_count": 10,
   "id": "2cfee185",
   "metadata": {},
   "outputs": [
    {
     "name": "stdout",
     "output_type": "stream",
     "text": [
      "(464809, 12)\n"
     ]
    }
   ],
   "source": [
    "clf = ExtraTreesClassifier()\n",
    "clf = clf.fit(features, label)\n",
    "model = SelectFromModel(clf, prefit=True)\n",
    "New_features = model.transform(features)\n",
    "print(New_features.shape)\n"
   ]
  },
  {
   "cell_type": "code",
   "execution_count": 12,
   "id": "9e604fd7",
   "metadata": {},
   "outputs": [],
   "source": [
    "test_features = test.iloc[:,0:54]\n",
    "Test_features = model.transform(test_features)\n",
    "\n",
    "Classifiers = []"
   ]
  },
  {
   "cell_type": "code",
   "execution_count": 15,
   "id": "54b3b31a",
   "metadata": {},
   "outputs": [],
   "source": [
    "Classifiers.append(BaggingClassifier(\n",
    "    DecisionTreeClassifier(max_leaf_nodes=16, random_state=42),\n",
    "    n_estimators=500, max_samples=1.0, bootstrap=True, n_jobs=-1, random_state=42))"
   ]
  },
  {
   "cell_type": "code",
   "execution_count": 16,
   "id": "b008b64e",
   "metadata": {},
   "outputs": [],
   "source": [
    "Classifiers.append(ExtraTreesClassifier(n_estimators=500, max_leaf_nodes=16, n_jobs=-1, random_state=42))"
   ]
  },
  {
   "cell_type": "code",
   "execution_count": 29,
   "id": "c92d23fa",
   "metadata": {},
   "outputs": [
    {
     "name": "stdout",
     "output_type": "stream",
     "text": [
      "Accuracy of BaggingClassifier is 0.6859461459686927\n",
      "Accuracy of ExtraTreesClassifier is 0.6401469841570355\n"
     ]
    }
   ],
   "source": [
    "model = []\n",
    "accuracy = []\n",
    "\n",
    "for clf in Classifiers:\n",
    "    fit=clf.fit(New_features,label)\n",
    "    pred=fit.predict(Test_features)\n",
    "    model.append(clf.__class__.__name__)\n",
    "    accuracy.append(accuracy_score(test.iloc[:,54],pred))\n",
    "    print('Accuracy of '+clf.__class__.__name__ +' is '+str(accuracy_score(test.iloc[:,54],pred)))"
   ]
  },
  {
   "cell_type": "code",
   "execution_count": null,
   "id": "3cc8f24c",
   "metadata": {},
   "outputs": [],
   "source": []
  }
 ],
 "metadata": {
  "kernelspec": {
   "display_name": "Python 3 (ipykernel)",
   "language": "python",
   "name": "python3"
  },
  "language_info": {
   "codemirror_mode": {
    "name": "ipython",
    "version": 3
   },
   "file_extension": ".py",
   "mimetype": "text/x-python",
   "name": "python",
   "nbconvert_exporter": "python",
   "pygments_lexer": "ipython3",
   "version": "3.10.6"
  }
 },
 "nbformat": 4,
 "nbformat_minor": 5
}
