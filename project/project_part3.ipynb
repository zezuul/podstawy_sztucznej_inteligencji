{
 "cells": [
  {
   "cell_type": "code",
   "execution_count": 4,
   "id": "c4de217f",
   "metadata": {},
   "outputs": [],
   "source": [
    "import os\n",
    "os.environ['CUDA_VISIBLE_DEVICES'] = \"0\""
   ]
  },
  {
   "cell_type": "code",
   "execution_count": 5,
   "id": "06217fe3",
   "metadata": {},
   "outputs": [],
   "source": [
    "import pandas as pd\n",
    "import numpy as np\n",
    "import matplotlib.pyplot as plt\n",
    "import seaborn as sns\n",
    "from sklearn.model_selection import train_test_split\n",
    "from sklearn.model_selection import StratifiedKFold\n",
    "import tensorflow as tf\n",
    "from tensorflow import keras\n",
    "from sklearn.preprocessing import StandardScaler\n",
    "from collections import Counter\n",
    "from imblearn.over_sampling import SMOTE\n",
    "from sklearn.model_selection import train_test_split\n",
    "from sklearn.metrics import confusion_matrix, accuracy_score, classification_report \n",
    "from keras.models import Sequential\n",
    "from keras.layers import Dense\n",
    "from tensorflow.keras.layers import Conv2D, MaxPool2D\n",
    "from tensorflow.keras.layers import Activation, Dropout, Flatten, Dense, Input\n",
    "from tensorflow.keras.utils import to_categorical"
   ]
  },
  {
   "cell_type": "code",
   "execution_count": 6,
   "id": "492ea095",
   "metadata": {},
   "outputs": [],
   "source": [
    "cont_names = [\"Elevation\", \"Aspect\", \"Slope\", \"Horizontal_Distance_To_Hydrology\", \"Vertical_Distance_To_Hydrology\", \"Horizontal_Distance_To_Roadways\", \"Hillshade_9am\", \"Hillshade_Noon\", \"Hillshade_3pm\", \"Horizontal_Distance_To_Fire_Points\"]\n",
    "cont_dict = {name: np.float64 for name in cont_names}\n",
    "\n",
    "area_names = [\"WArea_\"+ str(i+1) for i in range(4)]\n",
    "area_dict = {name: np.int64 for name in area_names}\n",
    "\n",
    "soil_names = ['Soil_' + str(i+1) for i in range(40)]\n",
    "soil_dict = {name: np.int64 for name in soil_names}\n",
    "\n",
    "categ_names = area_names + soil_names\n",
    "\n",
    "target = 'Cover_Type'\n",
    "names = cont_names + categ_names #all columns except cover types\n",
    "dtypes_dict = {**cont_dict, **area_dict, **soil_dict}"
   ]
  },
  {
   "cell_type": "code",
   "execution_count": 7,
   "id": "aea7acdd",
   "metadata": {},
   "outputs": [],
   "source": [
    "df = pd.read_csv(\"covtype.data\", header = None, names = names + [target], dtype = dtypes_dict)"
   ]
  },
  {
   "cell_type": "code",
   "execution_count": 8,
   "id": "cb588015",
   "metadata": {},
   "outputs": [],
   "source": [
    "X = df.drop('Cover_Type', axis=1)\n",
    "y = df['Cover_Type']"
   ]
  },
  {
   "cell_type": "markdown",
   "id": "c38d4d53",
   "metadata": {},
   "source": [
    "We will use what we have discovered during EDA. Thus we are dropping features that are not significant."
   ]
  },
  {
   "cell_type": "code",
   "execution_count": 9,
   "id": "46b04dcb",
   "metadata": {},
   "outputs": [],
   "source": [
    "x_train, x_test, y_train, y_test = train_test_split(\n",
    "            X, y, test_size=0.2, random_state=123)\n",
    "\n",
    "y_train = to_categorical(y_train.astype(int).to_numpy())\n",
    "y_test = to_categorical(y_test.astype(int).to_numpy())"
   ]
  },
  {
   "cell_type": "code",
   "execution_count": 11,
   "id": "3bdf1946",
   "metadata": {},
   "outputs": [],
   "source": [
    "model = Sequential()\n",
    "model.add(Dense(100, input_dim=x_train.shape[1], activation='relu'))\n",
    "model.add(Dense(100, activation='relu'))\n",
    "model.add(Dense(100, activation='relu'))\n",
    "model.add(Flatten())\n",
    "model.add(Dense(8, activation='sigmoid'))\n",
    "\n",
    "model.compile(loss='categorical_crossentropy',\n",
    "                      optimizer='adam', metrics=['accuracy'])"
   ]
  },
  {
   "cell_type": "code",
   "execution_count": 14,
   "id": "9e4d28b8",
   "metadata": {},
   "outputs": [
    {
     "name": "stdout",
     "output_type": "stream",
     "text": [
      "Epoch 1/100\n",
      "312/312 [==============================] - 3s 7ms/step - loss: 10.0100 - accuracy: 0.4697 - val_loss: 1.8928 - val_accuracy: 0.5485\n",
      "Epoch 2/100\n",
      "312/312 [==============================] - 2s 7ms/step - loss: 2.0343 - accuracy: 0.5455 - val_loss: 2.7285 - val_accuracy: 0.5177\n",
      "Epoch 3/100\n",
      "312/312 [==============================] - 2s 7ms/step - loss: 1.4194 - accuracy: 0.5918 - val_loss: 1.0547 - val_accuracy: 0.6091\n",
      "Epoch 4/100\n",
      "312/312 [==============================] - 2s 6ms/step - loss: 1.2052 - accuracy: 0.6207 - val_loss: 1.3207 - val_accuracy: 0.5849\n",
      "Epoch 5/100\n",
      "312/312 [==============================] - 2s 5ms/step - loss: 1.0543 - accuracy: 0.6383 - val_loss: 2.1285 - val_accuracy: 0.4785\n",
      "Epoch 6/100\n",
      "312/312 [==============================] - 2s 5ms/step - loss: 0.9326 - accuracy: 0.6617 - val_loss: 0.9093 - val_accuracy: 0.6580\n",
      "Epoch 7/100\n",
      "312/312 [==============================] - 2s 5ms/step - loss: 0.8825 - accuracy: 0.6679 - val_loss: 0.7110 - val_accuracy: 0.7032\n",
      "Epoch 8/100\n",
      "312/312 [==============================] - 2s 5ms/step - loss: 0.8317 - accuracy: 0.6794 - val_loss: 0.8333 - val_accuracy: 0.6932\n",
      "Epoch 9/100\n",
      "312/312 [==============================] - 2s 5ms/step - loss: 0.7661 - accuracy: 0.6920 - val_loss: 0.6581 - val_accuracy: 0.7187\n",
      "Epoch 10/100\n",
      "312/312 [==============================] - 2s 6ms/step - loss: 0.7799 - accuracy: 0.6910 - val_loss: 0.6551 - val_accuracy: 0.7244\n",
      "Epoch 11/100\n",
      "312/312 [==============================] - 2s 7ms/step - loss: 0.7343 - accuracy: 0.7007 - val_loss: 0.7087 - val_accuracy: 0.6961\n",
      "Epoch 12/100\n",
      "312/312 [==============================] - 2s 7ms/step - loss: 0.6839 - accuracy: 0.7143 - val_loss: 0.6568 - val_accuracy: 0.7217\n",
      "Epoch 13/100\n",
      "312/312 [==============================] - 2s 7ms/step - loss: 0.7181 - accuracy: 0.7069 - val_loss: 0.6353 - val_accuracy: 0.7246\n",
      "Epoch 14/100\n",
      "312/312 [==============================] - 2s 7ms/step - loss: 0.6724 - accuracy: 0.7198 - val_loss: 0.5874 - val_accuracy: 0.7551\n",
      "Epoch 15/100\n",
      "312/312 [==============================] - 2s 7ms/step - loss: 0.6576 - accuracy: 0.7231 - val_loss: 0.6293 - val_accuracy: 0.7300\n",
      "Epoch 16/100\n",
      "312/312 [==============================] - 2s 7ms/step - loss: 0.6403 - accuracy: 0.7306 - val_loss: 0.8478 - val_accuracy: 0.6771\n",
      "Epoch 17/100\n",
      "312/312 [==============================] - 2s 6ms/step - loss: 0.6237 - accuracy: 0.7356 - val_loss: 0.6504 - val_accuracy: 0.7132\n",
      "Epoch 18/100\n",
      "312/312 [==============================] - 2s 7ms/step - loss: 0.6129 - accuracy: 0.7397 - val_loss: 0.6071 - val_accuracy: 0.7529\n",
      "Epoch 19/100\n",
      "312/312 [==============================] - 2s 6ms/step - loss: 0.6082 - accuracy: 0.7427 - val_loss: 0.6470 - val_accuracy: 0.7092\n",
      "Epoch 20/100\n",
      "312/312 [==============================] - 2s 6ms/step - loss: 0.6027 - accuracy: 0.7432 - val_loss: 0.5799 - val_accuracy: 0.7600\n",
      "Epoch 21/100\n",
      "312/312 [==============================] - 2s 7ms/step - loss: 0.6043 - accuracy: 0.7422 - val_loss: 0.5527 - val_accuracy: 0.7690\n",
      "Epoch 22/100\n",
      "312/312 [==============================] - 2s 7ms/step - loss: 0.5750 - accuracy: 0.7571 - val_loss: 0.5332 - val_accuracy: 0.7756\n",
      "Epoch 23/100\n",
      "312/312 [==============================] - 2s 7ms/step - loss: 0.5737 - accuracy: 0.7553 - val_loss: 0.6222 - val_accuracy: 0.7210\n",
      "Epoch 24/100\n",
      "312/312 [==============================] - 2s 7ms/step - loss: 0.5735 - accuracy: 0.7553 - val_loss: 0.5338 - val_accuracy: 0.7758\n",
      "Epoch 25/100\n",
      "312/312 [==============================] - 2s 7ms/step - loss: 0.5521 - accuracy: 0.7642 - val_loss: 0.5977 - val_accuracy: 0.7338\n",
      "Epoch 26/100\n",
      "312/312 [==============================] - 2s 7ms/step - loss: 0.5620 - accuracy: 0.7612 - val_loss: 0.5440 - val_accuracy: 0.7695\n",
      "Epoch 27/100\n",
      "312/312 [==============================] - 2s 7ms/step - loss: 0.5450 - accuracy: 0.7680 - val_loss: 0.5312 - val_accuracy: 0.7718\n",
      "Epoch 28/100\n",
      "312/312 [==============================] - 2s 7ms/step - loss: 0.5429 - accuracy: 0.7683 - val_loss: 0.5883 - val_accuracy: 0.7464\n",
      "Epoch 29/100\n",
      "312/312 [==============================] - 2s 7ms/step - loss: 0.5362 - accuracy: 0.7706 - val_loss: 0.5402 - val_accuracy: 0.7695\n",
      "Epoch 30/100\n",
      "312/312 [==============================] - 2s 6ms/step - loss: 0.5347 - accuracy: 0.7715 - val_loss: 0.5480 - val_accuracy: 0.7637\n",
      "Epoch 31/100\n",
      "312/312 [==============================] - 2s 7ms/step - loss: 0.5262 - accuracy: 0.7757 - val_loss: 0.5051 - val_accuracy: 0.7833\n",
      "Epoch 32/100\n",
      "312/312 [==============================] - 2s 7ms/step - loss: 0.5208 - accuracy: 0.7778 - val_loss: 0.5506 - val_accuracy: 0.7607\n",
      "Epoch 33/100\n",
      "312/312 [==============================] - 2s 7ms/step - loss: 0.5095 - accuracy: 0.7835 - val_loss: 0.5203 - val_accuracy: 0.7723\n",
      "Epoch 34/100\n",
      "312/312 [==============================] - 2s 7ms/step - loss: 0.5147 - accuracy: 0.7801 - val_loss: 0.5570 - val_accuracy: 0.7650\n",
      "Epoch 35/100\n",
      "312/312 [==============================] - 2s 7ms/step - loss: 0.5095 - accuracy: 0.7827 - val_loss: 0.5920 - val_accuracy: 0.7389\n",
      "Epoch 36/100\n",
      "312/312 [==============================] - 2s 7ms/step - loss: 0.4999 - accuracy: 0.7868 - val_loss: 0.4765 - val_accuracy: 0.7992\n",
      "Epoch 37/100\n",
      "312/312 [==============================] - 2s 7ms/step - loss: 0.4928 - accuracy: 0.7898 - val_loss: 0.5030 - val_accuracy: 0.7835\n",
      "Epoch 38/100\n",
      "312/312 [==============================] - 2s 6ms/step - loss: 0.4975 - accuracy: 0.7881 - val_loss: 0.4973 - val_accuracy: 0.7908\n",
      "Epoch 39/100\n",
      "312/312 [==============================] - 2s 6ms/step - loss: 0.4874 - accuracy: 0.7920 - val_loss: 0.4786 - val_accuracy: 0.8010\n",
      "Epoch 40/100\n",
      "312/312 [==============================] - 2s 7ms/step - loss: 0.4826 - accuracy: 0.7951 - val_loss: 0.4688 - val_accuracy: 0.8031\n",
      "Epoch 41/100\n",
      "312/312 [==============================] - 2s 6ms/step - loss: 0.4786 - accuracy: 0.7964 - val_loss: 0.4774 - val_accuracy: 0.7980\n",
      "Epoch 42/100\n",
      "312/312 [==============================] - 2s 6ms/step - loss: 0.4709 - accuracy: 0.8001 - val_loss: 0.5132 - val_accuracy: 0.7761\n",
      "Epoch 43/100\n",
      "312/312 [==============================] - 2s 7ms/step - loss: 0.4744 - accuracy: 0.7977 - val_loss: 0.5186 - val_accuracy: 0.7803\n",
      "Epoch 44/100\n",
      "312/312 [==============================] - 2s 6ms/step - loss: 0.4603 - accuracy: 0.8047 - val_loss: 0.4494 - val_accuracy: 0.8091\n",
      "Epoch 45/100\n",
      "312/312 [==============================] - 2s 7ms/step - loss: 0.4651 - accuracy: 0.8017 - val_loss: 0.4582 - val_accuracy: 0.8052\n",
      "Epoch 46/100\n",
      "312/312 [==============================] - 2s 6ms/step - loss: 0.4550 - accuracy: 0.8066 - val_loss: 0.4746 - val_accuracy: 0.7996\n",
      "Epoch 47/100\n",
      "312/312 [==============================] - 2s 7ms/step - loss: 0.4507 - accuracy: 0.8091 - val_loss: 0.4719 - val_accuracy: 0.7968\n",
      "Epoch 48/100\n",
      "312/312 [==============================] - 2s 7ms/step - loss: 0.4469 - accuracy: 0.8100 - val_loss: 0.4588 - val_accuracy: 0.8086\n",
      "Epoch 49/100\n",
      "312/312 [==============================] - 2s 6ms/step - loss: 0.4435 - accuracy: 0.8120 - val_loss: 0.4440 - val_accuracy: 0.8101\n",
      "Epoch 50/100\n",
      "312/312 [==============================] - 2s 7ms/step - loss: 0.4403 - accuracy: 0.8128 - val_loss: 0.4440 - val_accuracy: 0.8109\n",
      "Epoch 51/100\n",
      "312/312 [==============================] - 2s 6ms/step - loss: 0.4419 - accuracy: 0.8129 - val_loss: 0.4531 - val_accuracy: 0.8044\n",
      "Epoch 52/100\n",
      "312/312 [==============================] - 2s 7ms/step - loss: 0.4339 - accuracy: 0.8160 - val_loss: 0.4335 - val_accuracy: 0.8204\n",
      "Epoch 53/100\n",
      "312/312 [==============================] - 2s 7ms/step - loss: 0.4382 - accuracy: 0.8143 - val_loss: 0.4562 - val_accuracy: 0.8012\n",
      "Epoch 54/100\n",
      "312/312 [==============================] - 2s 6ms/step - loss: 0.4292 - accuracy: 0.8182 - val_loss: 0.4460 - val_accuracy: 0.8100\n",
      "Epoch 55/100\n",
      "312/312 [==============================] - 2s 6ms/step - loss: 0.4291 - accuracy: 0.8183 - val_loss: 0.4360 - val_accuracy: 0.8124\n",
      "Epoch 56/100\n",
      "312/312 [==============================] - 2s 7ms/step - loss: 0.4204 - accuracy: 0.8229 - val_loss: 0.4638 - val_accuracy: 0.7986\n",
      "Epoch 57/100\n",
      "312/312 [==============================] - 2s 6ms/step - loss: 0.4218 - accuracy: 0.8217 - val_loss: 0.4135 - val_accuracy: 0.8251\n"
     ]
    },
    {
     "name": "stdout",
     "output_type": "stream",
     "text": [
      "Epoch 58/100\n",
      "312/312 [==============================] - 2s 6ms/step - loss: 0.4183 - accuracy: 0.8237 - val_loss: 0.4000 - val_accuracy: 0.8348\n",
      "Epoch 59/100\n",
      "312/312 [==============================] - 2s 6ms/step - loss: 0.4119 - accuracy: 0.8268 - val_loss: 0.4070 - val_accuracy: 0.8288\n",
      "Epoch 60/100\n",
      "312/312 [==============================] - 2s 7ms/step - loss: 0.4195 - accuracy: 0.8225 - val_loss: 0.4896 - val_accuracy: 0.7827\n",
      "Epoch 61/100\n",
      "312/312 [==============================] - 2s 6ms/step - loss: 0.4094 - accuracy: 0.8280 - val_loss: 0.4102 - val_accuracy: 0.8277\n",
      "Epoch 62/100\n",
      "312/312 [==============================] - 2s 6ms/step - loss: 0.4041 - accuracy: 0.8305 - val_loss: 0.4362 - val_accuracy: 0.8112\n",
      "Epoch 63/100\n",
      "312/312 [==============================] - 2s 7ms/step - loss: 0.4022 - accuracy: 0.8308 - val_loss: 0.3996 - val_accuracy: 0.8362\n",
      "Epoch 64/100\n",
      "312/312 [==============================] - 2s 7ms/step - loss: 0.4036 - accuracy: 0.8302 - val_loss: 0.4100 - val_accuracy: 0.8274\n",
      "Epoch 65/100\n",
      "312/312 [==============================] - 2s 6ms/step - loss: 0.4015 - accuracy: 0.8315 - val_loss: 0.4055 - val_accuracy: 0.8317\n",
      "Epoch 66/100\n",
      "312/312 [==============================] - 2s 7ms/step - loss: 0.4016 - accuracy: 0.8309 - val_loss: 0.3820 - val_accuracy: 0.8414\n",
      "Epoch 67/100\n",
      "312/312 [==============================] - 2s 7ms/step - loss: 0.3934 - accuracy: 0.8346 - val_loss: 0.3801 - val_accuracy: 0.8408\n",
      "Epoch 68/100\n",
      "312/312 [==============================] - 2s 6ms/step - loss: 0.3893 - accuracy: 0.8364 - val_loss: 0.4169 - val_accuracy: 0.8265\n",
      "Epoch 69/100\n",
      "312/312 [==============================] - 2s 7ms/step - loss: 0.3919 - accuracy: 0.8361 - val_loss: 0.3868 - val_accuracy: 0.8389\n",
      "Epoch 70/100\n",
      "312/312 [==============================] - 2s 7ms/step - loss: 0.3893 - accuracy: 0.8367 - val_loss: 0.4060 - val_accuracy: 0.8327\n",
      "Epoch 71/100\n",
      "312/312 [==============================] - 2s 7ms/step - loss: 0.3856 - accuracy: 0.8381 - val_loss: 0.3951 - val_accuracy: 0.8379\n",
      "Epoch 72/100\n",
      "312/312 [==============================] - 2s 6ms/step - loss: 0.3861 - accuracy: 0.8381 - val_loss: 0.4072 - val_accuracy: 0.8292\n",
      "Epoch 73/100\n",
      "312/312 [==============================] - 2s 6ms/step - loss: 0.3782 - accuracy: 0.8424 - val_loss: 0.3878 - val_accuracy: 0.8359\n",
      "Epoch 74/100\n",
      "312/312 [==============================] - 2s 7ms/step - loss: 0.3792 - accuracy: 0.8412 - val_loss: 0.3965 - val_accuracy: 0.8375\n",
      "Epoch 75/100\n",
      "312/312 [==============================] - 2s 7ms/step - loss: 0.3801 - accuracy: 0.8417 - val_loss: 0.3631 - val_accuracy: 0.8502\n",
      "Epoch 76/100\n",
      "312/312 [==============================] - 2s 7ms/step - loss: 0.3793 - accuracy: 0.8416 - val_loss: 0.3588 - val_accuracy: 0.8551\n",
      "Epoch 77/100\n",
      "312/312 [==============================] - 2s 7ms/step - loss: 0.3717 - accuracy: 0.8456 - val_loss: 0.3749 - val_accuracy: 0.8455\n",
      "Epoch 78/100\n",
      "312/312 [==============================] - 2s 7ms/step - loss: 0.3696 - accuracy: 0.8460 - val_loss: 0.3874 - val_accuracy: 0.8404\n",
      "Epoch 79/100\n",
      "312/312 [==============================] - 2s 7ms/step - loss: 0.3712 - accuracy: 0.8452 - val_loss: 0.3916 - val_accuracy: 0.8342\n",
      "Epoch 80/100\n",
      "312/312 [==============================] - 2s 6ms/step - loss: 0.3648 - accuracy: 0.8480 - val_loss: 0.3665 - val_accuracy: 0.8469\n",
      "Epoch 81/100\n",
      "312/312 [==============================] - 2s 7ms/step - loss: 0.3655 - accuracy: 0.8474 - val_loss: 0.3729 - val_accuracy: 0.8468\n",
      "Epoch 82/100\n",
      "312/312 [==============================] - 2s 6ms/step - loss: 0.3640 - accuracy: 0.8481 - val_loss: 0.4389 - val_accuracy: 0.8149\n",
      "Epoch 83/100\n",
      "312/312 [==============================] - 2s 7ms/step - loss: 0.3616 - accuracy: 0.8492 - val_loss: 0.3747 - val_accuracy: 0.8439\n",
      "Epoch 84/100\n",
      "312/312 [==============================] - 2s 6ms/step - loss: 0.3586 - accuracy: 0.8512 - val_loss: 0.3561 - val_accuracy: 0.8540\n",
      "Epoch 85/100\n",
      "312/312 [==============================] - 2s 6ms/step - loss: 0.3612 - accuracy: 0.8492 - val_loss: 0.3714 - val_accuracy: 0.8423\n",
      "Epoch 86/100\n",
      "312/312 [==============================] - 2s 6ms/step - loss: 0.3576 - accuracy: 0.8515 - val_loss: 0.3696 - val_accuracy: 0.8452\n",
      "Epoch 87/100\n",
      "312/312 [==============================] - 2s 6ms/step - loss: 0.3563 - accuracy: 0.8514 - val_loss: 0.3654 - val_accuracy: 0.8496\n",
      "Epoch 88/100\n",
      "312/312 [==============================] - 2s 6ms/step - loss: 0.3528 - accuracy: 0.8542 - val_loss: 0.3571 - val_accuracy: 0.8537\n",
      "Epoch 89/100\n",
      "312/312 [==============================] - 2s 6ms/step - loss: 0.3498 - accuracy: 0.8547 - val_loss: 0.3502 - val_accuracy: 0.8551\n",
      "Epoch 90/100\n",
      "312/312 [==============================] - 2s 6ms/step - loss: 0.3491 - accuracy: 0.8552 - val_loss: 0.3640 - val_accuracy: 0.8520\n",
      "Epoch 91/100\n",
      "312/312 [==============================] - 2s 7ms/step - loss: 0.3527 - accuracy: 0.8535 - val_loss: 0.3558 - val_accuracy: 0.8534\n",
      "Epoch 92/100\n",
      "312/312 [==============================] - 2s 7ms/step - loss: 0.3473 - accuracy: 0.8564 - val_loss: 0.3767 - val_accuracy: 0.8442\n",
      "Epoch 93/100\n",
      "312/312 [==============================] - 2s 7ms/step - loss: 0.3465 - accuracy: 0.8567 - val_loss: 0.3597 - val_accuracy: 0.8532\n",
      "Epoch 94/100\n",
      "312/312 [==============================] - 2s 7ms/step - loss: 0.3423 - accuracy: 0.8578 - val_loss: 0.3757 - val_accuracy: 0.8436\n",
      "Epoch 95/100\n",
      "312/312 [==============================] - 2s 7ms/step - loss: 0.3468 - accuracy: 0.8562 - val_loss: 0.3899 - val_accuracy: 0.8331\n",
      "Epoch 96/100\n",
      "312/312 [==============================] - 2s 7ms/step - loss: 0.3414 - accuracy: 0.8581 - val_loss: 0.3892 - val_accuracy: 0.8334\n",
      "Epoch 97/100\n",
      "312/312 [==============================] - 2s 7ms/step - loss: 0.3358 - accuracy: 0.8614 - val_loss: 0.3507 - val_accuracy: 0.8545\n",
      "Epoch 98/100\n",
      "312/312 [==============================] - 2s 7ms/step - loss: 0.3377 - accuracy: 0.8603 - val_loss: 0.3421 - val_accuracy: 0.8574\n",
      "Epoch 99/100\n",
      "312/312 [==============================] - 2s 7ms/step - loss: 0.3361 - accuracy: 0.8608 - val_loss: 0.3446 - val_accuracy: 0.8591\n",
      "Epoch 100/100\n",
      "312/312 [==============================] - 2s 7ms/step - loss: 0.3373 - accuracy: 0.8603 - val_loss: 0.3674 - val_accuracy: 0.8510\n"
     ]
    }
   ],
   "source": [
    "model_history = model.fit(x_train, y_train, \n",
    "                               validation_split=0.33, batch_size=1000, epochs=100)\n"
   ]
  },
  {
   "cell_type": "code",
   "execution_count": 15,
   "id": "7c4a8c22",
   "metadata": {},
   "outputs": [
    {
     "data": {
      "image/png": "[encoded data removed]",
      "text/plain": [
       "<Figure size 432x288 with 1 Axes>"
      ]
     },
     "metadata": {
      "needs_background": "light"
     },
     "output_type": "display_data"
    }
   ],
   "source": [
    "plt.plot(model_history.history['accuracy'])\n",
    "plt.plot(model_history.history['val_accuracy'])\n",
    "plt.title('Model Accuracy')\n",
    "plt.ylabel('Accuracy')\n",
    "plt.xlabel('Epoch')\n",
    "plt.legend(['train', 'test'], loc='upper left')\n",
    "plt.show()"
   ]
  },
  {
   "cell_type": "code",
   "execution_count": 16,
   "id": "f6a2d406",
   "metadata": {},
   "outputs": [
    {
     "data": {
      "image/png": "[encoded data removed]",
      "text/plain": [
       "<Figure size 432x288 with 1 Axes>"
      ]
     },
     "metadata": {
      "needs_background": "light"
     },
     "output_type": "display_data"
    }
   ],
   "source": [
    "plt.plot(model_history.history['loss'])\n",
    "plt.plot(model_history.history['val_loss'])\n",
    "plt.title('Model Loss')\n",
    "plt.ylabel('Loss')\n",
    "plt.xlabel('Epoch')\n",
    "plt.legend(['train', 'test'], loc='upper left')\n",
    "plt.show()"
   ]
  },
  {
   "cell_type": "code",
   "execution_count": 18,
   "id": "9b8a8e16",
   "metadata": {},
   "outputs": [
    {
     "name": "stdout",
     "output_type": "stream",
     "text": [
      "3632/3632 [==============================] - 5s 1ms/step - loss: 0.3703 - accuracy: 0.8484\n"
     ]
    },
    {
     "data": {
      "text/plain": [
       "[0.37025728821754456, 0.8483688235282898]"
      ]
     },
     "execution_count": 18,
     "metadata": {},
     "output_type": "execute_result"
    }
   ],
   "source": [
    "score = model.evaluate(x_test, y_test)\n",
    "score"
   ]
  },
  {
   "cell_type": "code",
   "execution_count": 21,
   "id": "7299ed01",
   "metadata": {},
   "outputs": [
    {
     "name": "stdout",
     "output_type": "stream",
     "text": [
      "3632/3632 [==============================] - 4s 1ms/step\n"
     ]
    },
    {
     "data": {
      "text/plain": [
       "array([1, 2, 1, ..., 1, 2, 1])"
      ]
     },
     "execution_count": 21,
     "metadata": {},
     "output_type": "execute_result"
    }
   ],
   "source": [
    "y_pred = model.predict(x_test)\n",
    "y_pred = np.argmax(y_pred, axis=1)\n",
    "y_pred"
   ]
  },
  {
   "cell_type": "code",
   "execution_count": 25,
   "id": "d7d88e49",
   "metadata": {},
   "outputs": [],
   "source": [
    "from sklearn.ensemble import ExtraTreesClassifier\n",
    "\n",
    "etc_model = ExtraTreesClassifier(random_state = 53)\n",
    "etc_model.fit(X,y)\n",
    "etc_feature_importances = pd.DataFrame(etc_model.feature_importances_, index=X.columns,\n",
    "                                      columns=['ETC']).sort_values('ETC', ascending=False)"
   ]
  },
  {
   "cell_type": "code",
   "execution_count": 26,
   "id": "35f6c883",
   "metadata": {},
   "outputs": [
    {
     "data": {
      "text/html": [
       "<div>\n",
       "<style scoped>\n",
       "    .dataframe tbody tr th:only-of-type {\n",
       "        vertical-align: middle;\n",
       "    }\n",
       "\n",
       "    .dataframe tbody tr th {\n",
       "        vertical-align: top;\n",
       "    }\n",
       "\n",
       "    .dataframe thead th {\n",
       "        text-align: right;\n",
       "    }\n",
       "</style>\n",
       "<table border=\"1\" class=\"dataframe\">\n",
       "  <thead>\n",
       "    <tr style=\"text-align: right;\">\n",
       "      <th></th>\n",
       "      <th>ETC</th>\n",
       "    </tr>\n",
       "  </thead>\n",
       "  <tbody>\n",
       "    <tr>\n",
       "      <th>Elevation</th>\n",
       "      <td>0.199053</td>\n",
       "    </tr>\n",
       "    <tr>\n",
       "      <th>Horizontal_Distance_To_Roadways</th>\n",
       "      <td>0.111130</td>\n",
       "    </tr>\n",
       "    <tr>\n",
       "      <th>Horizontal_Distance_To_Fire_Points</th>\n",
       "      <td>0.105355</td>\n",
       "    </tr>\n",
       "    <tr>\n",
       "      <th>Horizontal_Distance_To_Hydrology</th>\n",
       "      <td>0.064134</td>\n",
       "    </tr>\n",
       "    <tr>\n",
       "      <th>Vertical_Distance_To_Hydrology</th>\n",
       "      <td>0.058797</td>\n",
       "    </tr>\n",
       "    <tr>\n",
       "      <th>Aspect</th>\n",
       "      <td>0.052114</td>\n",
       "    </tr>\n",
       "    <tr>\n",
       "      <th>Hillshade_Noon</th>\n",
       "      <td>0.045301</td>\n",
       "    </tr>\n",
       "    <tr>\n",
       "      <th>Hillshade_9am</th>\n",
       "      <td>0.043331</td>\n",
       "    </tr>\n",
       "    <tr>\n",
       "      <th>Hillshade_3pm</th>\n",
       "      <td>0.042991</td>\n",
       "    </tr>\n",
       "    <tr>\n",
       "      <th>Slope</th>\n",
       "      <td>0.037128</td>\n",
       "    </tr>\n",
       "  </tbody>\n",
       "</table>\n",
       "</div>"
      ],
      "text/plain": [
       "                                         ETC\n",
       "Elevation                           0.199053\n",
       "Horizontal_Distance_To_Roadways     0.111130\n",
       "Horizontal_Distance_To_Fire_Points  0.105355\n",
       "Horizontal_Distance_To_Hydrology    0.064134\n",
       "Vertical_Distance_To_Hydrology      0.058797\n",
       "Aspect                              0.052114\n",
       "Hillshade_Noon                      0.045301\n",
       "Hillshade_9am                       0.043331\n",
       "Hillshade_3pm                       0.042991\n",
       "Slope                               0.037128"
      ]
     },
     "execution_count": 26,
     "metadata": {},
     "output_type": "execute_result"
    }
   ],
   "source": [
    "etc_model = None\n",
    "etc_feature_importances.head(10)"
   ]
  },
  {
   "cell_type": "code",
   "execution_count": 27,
   "id": "665f9d66",
   "metadata": {},
   "outputs": [
    {
     "data": {
      "text/html": [
       "<div>\n",
       "<style scoped>\n",
       "    .dataframe tbody tr th:only-of-type {\n",
       "        vertical-align: middle;\n",
       "    }\n",
       "\n",
       "    .dataframe tbody tr th {\n",
       "        vertical-align: top;\n",
       "    }\n",
       "\n",
       "    .dataframe thead th {\n",
       "        text-align: right;\n",
       "    }\n",
       "</style>\n",
       "<table border=\"1\" class=\"dataframe\">\n",
       "  <thead>\n",
       "    <tr style=\"text-align: right;\">\n",
       "      <th></th>\n",
       "      <th>GBC</th>\n",
       "    </tr>\n",
       "  </thead>\n",
       "  <tbody>\n",
       "    <tr>\n",
       "      <th>Elevation</th>\n",
       "      <td>0.644757</td>\n",
       "    </tr>\n",
       "    <tr>\n",
       "      <th>Horizontal_Distance_To_Roadways</th>\n",
       "      <td>0.055174</td>\n",
       "    </tr>\n",
       "    <tr>\n",
       "      <th>Horizontal_Distance_To_Fire_Points</th>\n",
       "      <td>0.042101</td>\n",
       "    </tr>\n",
       "    <tr>\n",
       "      <th>Horizontal_Distance_To_Hydrology</th>\n",
       "      <td>0.038732</td>\n",
       "    </tr>\n",
       "    <tr>\n",
       "      <th>WArea_1</th>\n",
       "      <td>0.026833</td>\n",
       "    </tr>\n",
       "    <tr>\n",
       "      <th>Hillshade_Noon</th>\n",
       "      <td>0.025819</td>\n",
       "    </tr>\n",
       "    <tr>\n",
       "      <th>Soil_4</th>\n",
       "      <td>0.016962</td>\n",
       "    </tr>\n",
       "    <tr>\n",
       "      <th>Soil_22</th>\n",
       "      <td>0.016684</td>\n",
       "    </tr>\n",
       "    <tr>\n",
       "      <th>WArea_3</th>\n",
       "      <td>0.013669</td>\n",
       "    </tr>\n",
       "    <tr>\n",
       "      <th>Soil_2</th>\n",
       "      <td>0.012659</td>\n",
       "    </tr>\n",
       "  </tbody>\n",
       "</table>\n",
       "</div>"
      ],
      "text/plain": [
       "                                         GBC\n",
       "Elevation                           0.644757\n",
       "Horizontal_Distance_To_Roadways     0.055174\n",
       "Horizontal_Distance_To_Fire_Points  0.042101\n",
       "Horizontal_Distance_To_Hydrology    0.038732\n",
       "WArea_1                             0.026833\n",
       "Hillshade_Noon                      0.025819\n",
       "Soil_4                              0.016962\n",
       "Soil_22                             0.016684\n",
       "WArea_3                             0.013669\n",
       "Soil_2                              0.012659"
      ]
     },
     "execution_count": 27,
     "metadata": {},
     "output_type": "execute_result"
    }
   ],
   "source": [
    "from sklearn.ensemble import GradientBoostingClassifier\n",
    "\n",
    "gbc_model = GradientBoostingClassifier(random_state = 53)\n",
    "gbc_model.fit(X,y)\n",
    "gbc_feature_importances = pd.DataFrame(gbc_model.feature_importances_, index=X.columns,\n",
    "                                      columns=['GBC']).sort_values('GBC', ascending=False)\n",
    "gbc_model = None\n",
    "gbc_feature_importances.head(10)"
   ]
  },
  {
   "cell_type": "code",
   "execution_count": 30,
   "id": "6a1dfac4",
   "metadata": {},
   "outputs": [],
   "source": [
    "features_left = df[[\n",
    "    'Elevation','Horizontal_Distance_To_Roadways','Horizontal_Distance_To_Fire_Points',\n",
    "    'WArea_4', 'Horizontal_Distance_To_Hydrology','Vertical_Distance_To_Hydrology',\n",
    "    'Aspect','Hillshade_3pm','Hillshade_Noon',\n",
    "    'Hillshade_9am','Soil_28','Soil_18','Soil_19','Soil_20',\n",
    "    'Soil_21','Soil_22',\n",
    "    'Soil_10','Soil_3','Soil_30','Soil_4','Cover_Type'\n",
    "]]\n"
   ]
  },
  {
   "cell_type": "code",
   "execution_count": 31,
   "id": "619690c4",
   "metadata": {},
   "outputs": [],
   "source": [
    "from sklearn.preprocessing import MinMaxScaler\n",
    "scaler = MinMaxScaler(feature_range = (0,1))\n",
    "X = features_left.iloc[:,:-1]\n",
    "y = features_left['Cover_Type']"
   ]
  },
  {
   "cell_type": "code",
   "execution_count": 32,
   "id": "1e1897d7",
   "metadata": {},
   "outputs": [],
   "source": [
    "X_scaled = scaler.fit_transform(X)"
   ]
  },
  {
   "cell_type": "code",
   "execution_count": 33,
   "id": "944c67bd",
   "metadata": {},
   "outputs": [],
   "source": [
    "X_train, X_test, y_train, y_test = train_test_split(X_scaled, y, test_size=0.3, random_state=53)"
   ]
  },
  {
   "cell_type": "code",
   "execution_count": 34,
   "id": "e339e2a2",
   "metadata": {},
   "outputs": [],
   "source": [
    "clf = ExtraTreesClassifier(n_estimators=50, random_state=53)\n",
    "clf = clf.fit(X_train, y_train)\n",
    "predict = clf.predict(X_test)"
   ]
  },
  {
   "cell_type": "code",
   "execution_count": 35,
   "id": "6926f701",
   "metadata": {},
   "outputs": [],
   "source": [
    "def evaluate(model, class_balance, X_test, y_test):\n",
    "    \n",
    "    model_acc = model.score(X_test, y_test)\n",
    "    print(\"Accuracy ({}): {:.2f}%\".format(class_balance, model_acc * 100))\n",
    "    \n",
    "    y_pred = model.predict(X_test)\n",
    "    \n",
    "    cm = confusion_matrix(y_test, y_pred)\n",
    "    clr = classification_report(y_test, y_pred)\n",
    "    \n",
    "    plt.figure(figsize=(8, 8))\n",
    "    sns.heatmap(cm, annot=True, fmt='g', vmin=0, cbar=False, cmap='RdPu')\n",
    "    plt.xlabel(\"Predicted\")\n",
    "    plt.ylabel(\"Actual\")\n",
    "    plt.title(\"Confusion Matrix\")\n",
    "    plt.show()\n",
    "    \n",
    "    print(\"Classification Report\\n\\n\", clr)"
   ]
  },
  {
   "cell_type": "code",
   "execution_count": 36,
   "id": "6bc986d7",
   "metadata": {},
   "outputs": [
    {
     "name": "stdout",
     "output_type": "stream",
     "text": [
      "Accuracy (Extra Trees Classifier with scaling): 94.49%\n"
     ]
    },
    {
     "data": {
      "image/png": "[encoded data removed]",
      "text/plain": [
       "<Figure size 576x576 with 1 Axes>"
      ]
     },
     "metadata": {
      "needs_background": "light"
     },
     "output_type": "display_data"
    },
    {
     "name": "stdout",
     "output_type": "stream",
     "text": [
      "Classification Report\n",
      "\n",
      "               precision    recall  f1-score   support\n",
      "\n",
      "           1       0.95      0.94      0.94     63600\n",
      "           2       0.94      0.96      0.95     84939\n",
      "           3       0.95      0.95      0.95     10714\n",
      "           4       0.92      0.86      0.89       819\n",
      "           5       0.94      0.72      0.82      2914\n",
      "           6       0.94      0.87      0.91      5221\n",
      "           7       0.98      0.93      0.95      6097\n",
      "\n",
      "    accuracy                           0.94    174304\n",
      "   macro avg       0.94      0.89      0.92    174304\n",
      "weighted avg       0.95      0.94      0.94    174304\n",
      "\n"
     ]
    }
   ],
   "source": [
    "evaluate(clf, \"Extra Trees Classifier with scaling\", X_test, y_test)"
   ]
  },
  {
   "cell_type": "markdown",
   "id": "0eab6e1d",
   "metadata": {},
   "source": [
    "# Summary"
   ]
  },
  {
   "cell_type": "markdown",
   "id": "213af3cd",
   "metadata": {},
   "source": [
    "Jest wiele sposobów na dokonanie klasyfikacji na tym zbiorze danych. Moim celem było przedstawienie możliwie jak największej ilości z nich, aby zobaczyć w jaki sposób wykorzystuje się funkcje dostępnych bibliotek. Bardziej niż na skupieniu się na znalezieniu jak najbardziej optymalnego rozwiązania skupiłam się na poznaniu różnych metod i technik jak undersampling, oversampling, skalowanie i dobieranie części parametrów czy następnie użycie metod ML a następnie przejścia do sieci neuronowych. "
   ]
  },
  {
   "cell_type": "code",
   "execution_count": null,
   "id": "b56c2926",
   "metadata": {},
   "outputs": [],
   "source": []
  }
 ],
 "metadata": {
  "kernelspec": {
   "display_name": "Python 3 (ipykernel)",
   "language": "python",
   "name": "python3"
  },
  "language_info": {
   "codemirror_mode": {
    "name": "ipython",
    "version": 3
   },
   "file_extension": ".py",
   "mimetype": "text/x-python",
   "name": "python",
   "nbconvert_exporter": "python",
   "pygments_lexer": "ipython3",
   "version": "3.10.6"
  }
 },
 "nbformat": 4,
 "nbformat_minor": 5
}
